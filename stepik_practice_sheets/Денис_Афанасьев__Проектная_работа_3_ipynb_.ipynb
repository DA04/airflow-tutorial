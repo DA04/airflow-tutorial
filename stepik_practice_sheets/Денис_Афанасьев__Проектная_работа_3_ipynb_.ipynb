{
  "nbformat": 4,
  "nbformat_minor": 0,
  "metadata": {
    "colab": {
      "name": "Денис_Афанасьев_\"Проектная работа #3.ipynb\"",
      "provenance": [],
      "collapsed_sections": [],
      "include_colab_link": true
    },
    "kernelspec": {
      "name": "python3",
      "display_name": "Python 3"
    },
    "language_info": {
      "name": "python"
    }
  },
  "cells": [
    {
      "cell_type": "markdown",
      "metadata": {
        "id": "view-in-github",
        "colab_type": "text"
      },
      "source": [
        "<a href=\"https://colab.research.google.com/github/DA04/airflow_training/blob/main/%D0%94%D0%B5%D0%BD%D0%B8%D1%81_%D0%90%D1%84%D0%B0%D0%BD%D0%B0%D1%81%D1%8C%D0%B5%D0%B2_%22%D0%9F%D1%80%D0%BE%D0%B5%D0%BA%D1%82%D0%BD%D0%B0%D1%8F_%D1%80%D0%B0%D0%B1%D0%BE%D1%82%D0%B0_3_ipynb%22.ipynb\" target=\"_parent\"><img src=\"https://colab.research.google.com/assets/colab-badge.svg\" alt=\"Open In Colab\"/></a>"
      ]
    },
    {
      "cell_type": "markdown",
      "metadata": {
        "id": "Z0I-IEE0ohyt"
      },
      "source": [
        "### Настройка Airflow\n",
        "\n",
        "Для начала вам необходимо выполнить ряд команд чтобы настроить окружение для дальнейшей работы, это позволит первое время не заниматься настройкой среды исполнения, а сразу начать писать код и работать с Airflow."
      ]
    },
    {
      "cell_type": "code",
      "metadata": {
        "id": "0unBvZMyx5H-"
      },
      "source": [
        "# Установка Airflow\n",
        "!pip install apache-airflow==2.1.4\n",
        "\n",
        "# Инициализация базы данных\n",
        "!airflow db init"
      ],
      "execution_count": null,
      "outputs": []
    },
    {
      "cell_type": "code",
      "metadata": {
        "id": "Ri_LIxa4z08a"
      },
      "source": [
        "# Создадим необходимые папки\n",
        "!mkdir /root/airflow/dags\n",
        "!touch /root/airflow/dags/dag.py"
      ],
      "execution_count": null,
      "outputs": []
    },
    {
      "cell_type": "code",
      "metadata": {
        "id": "Qx1Jfp2O0CBP"
      },
      "source": [
        "# Включим веб-сервер\n",
        "!airflow webserver -p 18273 -D"
      ],
      "execution_count": null,
      "outputs": []
    },
    {
      "cell_type": "code",
      "metadata": {
        "id": "6AicRo890Iyp",
        "colab": {
          "base_uri": "https://localhost:8080/"
        },
        "outputId": "d6081524-f919-4165-8f09-4537ebffdcb9"
      },
      "source": [
        "# Создадим пользователя Airflow\n",
        "!airflow users create \\\n",
        "          --username admin \\\n",
        "          --firstname admin \\\n",
        "          --lastname admin \\\n",
        "          --role Admin \\\n",
        "          --email admin@example.org \\\n",
        "          -p 12345"
      ],
      "execution_count": null,
      "outputs": [
        {
          "output_type": "stream",
          "name": "stdout",
          "text": [
            "\u001b[1;33m/usr/local/lib/python3.7/dist-packages/psycopg2/\u001b[0m\u001b[1;33m__init__.py\u001b[0m\u001b[1;33m:\u001b[0m\u001b[1;33m144\u001b[0m\u001b[1;33m UserWarning\u001b[0m\u001b[33m: The psycopg2 wheel package will be renamed from release \u001b[0m\u001b[1;33m2.8\u001b[0m\u001b[33m; in order to keep installing from binary please use \u001b[0m\u001b[33m\"pip install psycopg2-binary\"\u001b[0m\u001b[33m instead. For details see: \u001b[0m\u001b[1;33m<\u001b[0m\u001b[4;33mhttp:\u001b[0m\u001b[4;33m//initd.org/psycopg/docs/install.html#binary-install-from-pypi\u001b[0m\u001b[1;33m>\u001b[0m\u001b[33m.\u001b[0m\n",
            "[\u001b[34m2022-01-25 21:53:18,140\u001b[0m] {\u001b[34mmanager.py:\u001b[0m805} \u001b[33mWARNING\u001b[0m - \u001b[33mNo user yet created, use flask fab command to do it.\u001b[0m\n",
            "Admin user admin created\n"
          ]
        }
      ]
    },
    {
      "cell_type": "markdown",
      "metadata": {
        "id": "QZDvtrO63ntq"
      },
      "source": [
        "Поместите в dag.py следующий код.\n",
        "\n",
        "```python\n",
        "from airflow import DAG\n",
        "from datetime import timedelta\n",
        "from airflow.utils.dates import days_ago\n",
        "from airflow.operators.dummy_operator import DummyOperator\n",
        "\n",
        "dag = DAG('dag',schedule_interval=timedelta(days=1), start_date=days_ago(1))\n",
        "t1 = DummyOperator(task_id='task_1', dag=dag)\n",
        "t2 = DummyOperator(task_id='task_2',dag=dag)\n",
        "t3 = DummyOperator(task_id='task_3',dag=dag)\n",
        "t4 = DummyOperator(task_id='task_4',dag=dag)\n",
        "t5 = DummyOperator(task_id='task_5',dag=dag)\n",
        "t6 = DummyOperator(task_id='task_6',dag=dag)\n",
        "t7 = DummyOperator(task_id='task_7',dag=dag)\n",
        "```"
      ]
    },
    {
      "cell_type": "code",
      "metadata": {
        "id": "kXlUN86A3m1o",
        "colab": {
          "base_uri": "https://localhost:8080/"
        },
        "outputId": "8a4d7a4d-46cb-48f1-9806-6647f0411528"
      },
      "source": [
        "# Запуск шедулера\n",
        "!airflow scheduler -D"
      ],
      "execution_count": null,
      "outputs": [
        {
          "output_type": "stream",
          "name": "stdout",
          "text": [
            "  ____________       _____________\n",
            " ____    |__( )_________  __/__  /________      __\n",
            "____  /| |_  /__  ___/_  /_ __  /_  __ \\_ | /| / /\n",
            "___  ___ |  / _  /   _  __/ _  / / /_/ /_ |/ |/ /\n",
            " _/_/  |_/_/  /_/    /_/    /_/  \\____/____/|__/\n"
          ]
        }
      ]
    },
    {
      "cell_type": "code",
      "metadata": {
        "id": "A7jJGmYR3nGP",
        "colab": {
          "base_uri": "https://localhost:8080/"
        },
        "outputId": "01083fac-4fcb-413d-d662-b42ce8e01738"
      },
      "source": [
        "# Последующие команды не имеют отношения к Airflow\n",
        "# Они нужни только для корректной работы веб морды\n",
        "# в среде Google Colab\n",
        "\n",
        "!pip install pyngrok\n",
        "!ngrok authtoken <YOUR TOKEN> # найти его можно https://dashboard.ngrok.com/get-started/setup \n",
        "\n",
        "# Эта команда просто отображет веб морду на другой адрес\n",
        "# Его вы можете найти https://dashboard.ngrok.com/cloud-edge/status\n",
        "# При каждом отключении ссылка будет меняться\n",
        "!nohup ngrok http -log=stdout 18273 > /dev/null &"
      ],
      "execution_count": null,
      "outputs": [
        {
          "output_type": "stream",
          "name": "stdout",
          "text": [
            "nohup: redirecting stderr to stdout\n"
          ]
        }
      ]
    },
    {
      "cell_type": "markdown",
      "metadata": {
        "id": "6sbOlBAm4fUp"
      },
      "source": [
        "После запуска команды выше, перейдите по адресу в ngrok и подождите  пока появится DAG с именем dag"
      ]
    },
    {
      "cell_type": "code",
      "metadata": {
        "id": "IfJE9RhMgra6"
      },
      "source": [
        "# Решение на разработку\n",
        "import pandas as pd\n",
        "from airflow import DAG\n",
        "from datetime import timedelta, datetime\n",
        "from airflow.utils.dates import days_ago\n",
        "from airflow.operators.python_operator import PythonOperator\n",
        "from airflow.providers.sqlite.hooks.sqlite import SqliteHook\n",
        "from airflow.providers.sqlite.operators.sqlite import SqliteOperator\n",
        "\n",
        "\n",
        "dag = DAG(\n",
        "    dag_id='dag',\n",
        "    schedule_interval='@daily',\n",
        "    start_date=datetime(2022, 1, 26),\n",
        ")\n",
        "\n",
        "# Задача для создания таблицы в sqlite базе данных\n",
        "create_table_data = SqliteOperator(\n",
        "    task_id='create_table_data',\n",
        "    sql=\"\"\"\n",
        "    CREATE TABLE if not exists data (\n",
        "        currency TEXT,\n",
        "        value INT,\n",
        "        date DATE\n",
        "    );\n",
        "    \"\"\",\n",
        "    dag=dag,\n",
        ")\n",
        "# Задача для создания таблицы в sqlite базе данных\n",
        "create_table_currency = SqliteOperator(\n",
        "    task_id='create_table_currency',\n",
        "    sql=\"\"\"\n",
        "    CREATE TABLE if not exists currency (\n",
        "        date DATE,\n",
        "        code TEXT,\n",
        "        rate TEXT,\n",
        "        base TEXT,\n",
        "        start_date DATE,\n",
        "        end_date DATE\n",
        "    );\n",
        "    \"\"\",\n",
        "    dag=dag,\n",
        ")\n",
        "\n",
        "\n",
        "def insert_sqlite_hook(url, table_name):\n",
        "    sqlite_hook = SqliteHook()\n",
        "    # Скачиваем данные\n",
        "    data = pd.read_csv(url)\n",
        "    # Вставляем данные\n",
        "    sqlite_hook.insert_rows(table=table_name, rows=data.to_records(index=False), target_fields=list(data.columns))\n",
        "\n",
        "# Задача для добавления данных из pandas DataFrame\n",
        "insert_sqlite_data = PythonOperator(\n",
        "    task_id='insert_sqlite_data',\n",
        "    python_callable=insert_sqlite_hook,\n",
        "    op_kwargs={'url': 'https://raw.githubusercontent.com/dm-novikov/stepik_airflow_course/main/data_new/2021-01-01.csv', 'table_name': 'data'},\n",
        "    dag=dag,\n",
        ")\n",
        "# Задача для добавления данных из pandas DataFrame\n",
        "insert_sqlite_currency = PythonOperator(\n",
        "    task_id='insert_sqlite_currency',\n",
        "    python_callable=insert_sqlite_hook,\n",
        "    op_kwargs={'url': 'https://api.exchangerate.host/timeseries?start_date=2021-01-01&end_date=2021-01-01&base=EUR&format=csv&symbols=USD', 'table_name': 'currency'},\n",
        "    dag=dag,\n",
        ")\n",
        "\n",
        "# Ваше задание\n",
        "\n",
        "# Создать таблицу через SQLiteOperator\n",
        "create_table_join = SqliteOperator(\n",
        "    task_id='create_table_join',\n",
        "    sql=\"\"\"create table if not exists join_data (\n",
        "    currency TEXT,\n",
        "    value INT,\n",
        "    date DATE,\n",
        "    code TEXT,\n",
        "    rate TEXT,\n",
        "    base TEXT,\n",
        "    start_date DATE,\n",
        "    end_date DATE\n",
        "    );\n",
        "    \"\"\",\n",
        "    dag=dag,\n",
        ")\n",
        "\n",
        "# Объедините данные через SQLiteOperator\n",
        "join_data = SqliteOperator(\n",
        "    task_id='join_data',\n",
        "    sql=\"\"\"insert into join_data \n",
        "    (currency, value, date, code, rate, base, start_date, end_date) \n",
        "    select data.currency, data.value, data.date, currency.code,\n",
        "    currency.rate, currency.base, currency.start_date, currency.end_date\n",
        "    from data inner join currency on data.date = currency.date\"\"\",\n",
        "    dag=dag,\n",
        ")\n",
        "\n",
        "[create_table_data, create_table_currency, create_table_join] >> insert_sqlite_data >> insert_sqlite_currency >> join_data"
      ],
      "execution_count": null,
      "outputs": []
    },
    {
      "cell_type": "code",
      "source": [
        "# чтобы првоерить решение можете обратиться к вашей базе данных таким образом\n",
        "%load_ext sql\n",
        "%config SqlMagic.feedback=False \n",
        "%config SqlMagic.autopandas=True\n",
        "%sql sqlite://content/example.db\n",
        "%sql select * from join_data"
      ],
      "metadata": {
        "id": "WIpXhkYvtQKT"
      },
      "execution_count": null,
      "outputs": []
    },
    {
      "cell_type": "markdown",
      "metadata": {
        "id": "2nHwpj2ikn7r"
      },
      "source": [
        "Даг нужно написать в файл /root/airflow/dags/dag.py. Проверку можно сделать в веб интерфейсе. Прежде чем даг появится, может пройти ~ 2-3 минут."
      ]
    }
  ]
}